{
  "nbformat": 4,
  "nbformat_minor": 0,
  "metadata": {
    "colab": {
      "provenance": [],
      "gpuType": "T4"
    },
    "kernelspec": {
      "name": "python3",
      "display_name": "Python 3"
    },
    "language_info": {
      "name": "python"
    },
    "accelerator": "GPU"
  },
  "cells": [
    {
      "cell_type": "markdown",
      "source": [
        "# ***Truth or Lie? Training a Mindful BiLSTM***\n",
        "## Overview of Model Development Steps\n",
        "\n",
        "- Preprocessed and cleaned political text data.  \n",
        "- Tokenized, lemmatized, and converted text into numerical sequences.  \n",
        "- Labeled data as True or False for training.  \n",
        "- Built and trained a bidirectional LSTM with attention mechanism.  \n",
        "- Evaluated model performance and loaded the best checkpoint for predictions.\n",
        "\n",
        "---\n",
        "\n"
      ],
      "metadata": {
        "id": "t7QuXS0IgM8j"
      }
    },
    {
      "cell_type": "code",
      "source": [
        "# 1. Libraries & Preprocessing\n",
        "import pandas as pd\n",
        "import numpy as np\n",
        "import re\n",
        "import nltk\n",
        "import torch\n",
        "import torch.nn as nn\n",
        "import torch.optim as optim\n",
        "import torch.nn.functional as F\n",
        "from torch.utils.data import Dataset, DataLoader\n",
        "from sklearn.model_selection import train_test_split\n",
        "from sklearn.preprocessing import LabelEncoder\n",
        "from sklearn.metrics import accuracy_score, precision_score, recall_score, f1_score, roc_auc_score, confusion_matrix, roc_curve\n",
        "from collections import Counter\n",
        "import matplotlib.pyplot as plt\n",
        "from nltk.corpus import stopwords\n",
        "from nltk.stem import WordNetLemmatizer\n",
        "from tqdm import tqdm\n",
        "\n",
        "nltk.download('punkt')\n",
        "nltk.download('stopwords')\n",
        "nltk.download('wordnet')\n",
        "nltk.download('punkt_tab')\n",
        "\n"
      ],
      "metadata": {
        "colab": {
          "base_uri": "https://localhost:8080/"
        },
        "id": "mmNlJftDWp3c",
        "outputId": "f7544c95-89cd-44b5-e99c-6560f4a454d7"
      },
      "execution_count": null,
      "outputs": [
        {
          "output_type": "stream",
          "name": "stderr",
          "text": [
            "[nltk_data] Downloading package punkt to /root/nltk_data...\n",
            "[nltk_data]   Unzipping tokenizers/punkt.zip.\n",
            "[nltk_data] Downloading package stopwords to /root/nltk_data...\n",
            "[nltk_data]   Unzipping corpora/stopwords.zip.\n",
            "[nltk_data] Downloading package wordnet to /root/nltk_data...\n",
            "[nltk_data] Downloading package punkt_tab to /root/nltk_data...\n",
            "[nltk_data]   Unzipping tokenizers/punkt_tab.zip.\n"
          ]
        },
        {
          "output_type": "execute_result",
          "data": {
            "text/plain": [
              "True"
            ]
          },
          "metadata": {},
          "execution_count": 1
        }
      ]
    },
    {
      "cell_type": "code",
      "source": [
        "# Hyperparameters\n",
        "MAX_LEN = 100\n",
        "LEARNING_RATE = 1e-3\n",
        "BATCH_SIZE = 32\n",
        "DROPOUT_RATE = 0.5\n",
        "EPOCHS = 10\n",
        "PATIENCE = 3\n",
        "MAX_VOCAB = 10000\n",
        "EMBED_DIM = 100\n",
        "HIDDEN_DIM = 128\n",
        "\n",
        "device = torch.device(\"cuda\" if torch.cuda.is_available() else \"cpu\")\n",
        "\n",
        "# 2. Text Cleaning and Tokenization\n",
        "def clean_text(text):\n",
        "    text = re.sub(r'(Senator|Rep|President)\\s\\w+', '[POLITICIAN]', str(text))\n",
        "    text = re.sub(r'\\d+/\\d+/\\d+', '[DATE]', text)\n",
        "    text = re.sub(r'\\$\\d+', '[MONEY]', text)\n",
        "    text = re.sub(r'[^a-zA-Z\\s]', '', text.lower())\n",
        "    tokens = nltk.word_tokenize(text)\n",
        "    lemmatizer = WordNetLemmatizer()\n",
        "    stop_words = set(stopwords.words('english'))\n",
        "    return [lemmatizer.lemmatize(word) for word in tokens if word not in stop_words]\n",
        "\n",
        "\n"
      ],
      "metadata": {
        "id": "jYyFkR7Lh6Vo"
      },
      "execution_count": null,
      "outputs": []
    },
    {
      "cell_type": "code",
      "source": [
        "# 3. Load and Prepare Dataset\n",
        "df = pd.read_csv('politifact (1).csv')\n",
        "df = df[~df['veracity'].isin(['Full Flop', 'Half Flip', 'No Flip', 'Half-True'])]\n",
        "\n",
        "label_map = {\n",
        "    'True': 'True', 'Mostly True': 'True',\n",
        "    'False': 'False', 'Mostly False': 'False', 'Pants on Fire!': 'False'\n",
        "}\n",
        "df['label'] = df['veracity'].map(label_map)\n",
        "le = LabelEncoder()\n",
        "df['label_encoded'] = le.fit_transform(df['label'])\n",
        "\n",
        "df['tokens'] = df['statement'].apply(clean_text)\n",
        "\n"
      ],
      "metadata": {
        "id": "khbrPiKviDhD"
      },
      "execution_count": null,
      "outputs": []
    },
    {
      "cell_type": "code",
      "source": [
        "import matplotlib.pyplot as plt\n",
        "import seaborn as sns\n",
        "\n",
        "# Count class distribution\n",
        "label_counts = df['veracity'].value_counts().sort_index()\n",
        "\n",
        "# Pie chart\n",
        "plt.figure(figsize=(6,6))\n",
        "plt.pie(label_counts, labels=label_counts.index, autopct='%1.1f%%', startangle=90, colors=sns.color_palette(\"pastel\"))\n",
        "plt.title(\"Class Distribution (Pie Chart)\")\n",
        "plt.axis('equal')\n",
        "plt.show()\n",
        "\n",
        "\n",
        "label_counts = df['veracity'].value_counts().sort_index()\n",
        "\n",
        "print(\"\\nSample Statements from Each Class:\")\n",
        "for label in label_counts.index:\n",
        "    print(f\"\\nClass {label} Samples:\")\n",
        "    print(df[df['veracity'] == label]['statement'].sample(3, random_state=42).values)\n",
        "\n"
      ],
      "metadata": {
        "id": "tpIhfdltt-Vs"
      },
      "execution_count": null,
      "outputs": []
    },
    {
      "cell_type": "code",
      "source": [
        "# Build vocab\n",
        "counter = Counter([word for tokens in df['tokens'] for word in tokens])\n",
        "vocab = ['<PAD>', '<UNK>'] + [word for word, _ in counter.most_common(MAX_VOCAB - 2)]\n",
        "word2idx = {word: idx for idx, word in enumerate(vocab)}\n",
        "\n",
        "def encode_tokens(tokens):\n",
        "    return [word2idx.get(word, word2idx['<UNK>']) for word in tokens[:MAX_LEN]] + \\\n",
        "           [word2idx['<PAD>']] * max(0, MAX_LEN - len(tokens[:MAX_LEN]))\n",
        "\n",
        "df['input_ids'] = df['tokens'].apply(encode_tokens)\n",
        "\n",
        "X_train, X_val, y_train, y_val = train_test_split(df['input_ids'].tolist(), df['label_encoded'].tolist(), test_size=0.2, stratify=df['label_encoded'])\n",
        "\n",
        "\n"
      ],
      "metadata": {
        "id": "rRW8XMRXiGaO"
      },
      "execution_count": null,
      "outputs": []
    },
    {
      "cell_type": "code",
      "source": [
        "class TextDataset(Dataset):\n",
        "    def __init__(self, inputs, labels):\n",
        "        self.inputs = inputs\n",
        "        self.labels = labels\n",
        "\n",
        "    def __len__(self):\n",
        "        return len(self.inputs)\n",
        "\n",
        "    def __getitem__(self, idx):\n",
        "        return torch.tensor(self.inputs[idx], dtype=torch.long), torch.tensor(self.labels[idx], dtype=torch.float)\n",
        "\n",
        "train_dataset = TextDataset(X_train, y_train)\n",
        "val_dataset = TextDataset(X_val, y_val)\n",
        "train_loader = DataLoader(train_dataset, batch_size=BATCH_SIZE, shuffle=True)\n",
        "val_loader = DataLoader(val_dataset, batch_size=BATCH_SIZE)\n"
      ],
      "metadata": {
        "id": "YGEsKkTKiI79"
      },
      "execution_count": null,
      "outputs": []
    },
    {
      "cell_type": "code",
      "source": [
        "# 4. BiLSTM with Attention\n",
        "class AttentionBiLSTM(nn.Module):\n",
        "    def __init__(self, vocab_size, embed_dim, hidden_dim, dropout_rate):\n",
        "        super(AttentionBiLSTM, self).__init__()\n",
        "        self.embedding = nn.Embedding(vocab_size, embed_dim, padding_idx=0)\n",
        "        self.bilstm = nn.LSTM(embed_dim, hidden_dim, bidirectional=True, batch_first=True)\n",
        "        self.dropout = nn.Dropout(dropout_rate)\n",
        "        self.attention = nn.Linear(hidden_dim * 2, 1)\n",
        "        self.fc = nn.Linear(hidden_dim * 2, 1)\n",
        "\n",
        "    def forward(self, x):\n",
        "        embed = self.embedding(x)\n",
        "        lstm_out, _ = self.bilstm(embed)\n",
        "        attn_weights = torch.softmax(self.attention(lstm_out), dim=1)\n",
        "        context = torch.sum(attn_weights * lstm_out, dim=1)\n",
        "        out = self.dropout(context)\n",
        "        return self.fc(out).squeeze(1)\n",
        "\n",
        "model = AttentionBiLSTM(len(vocab), EMBED_DIM, HIDDEN_DIM, DROPOUT_RATE).to(device)\n",
        "criterion = nn.BCEWithLogitsLoss()\n",
        "optimizer = optim.Adam(model.parameters(), lr=LEARNING_RATE)"
      ],
      "metadata": {
        "id": "OwWv-BMnWUWk"
      },
      "execution_count": null,
      "outputs": []
    },
    {
      "cell_type": "code",
      "source": [
        "# 5. Training Loop with Early Stopping\n",
        "best_val_loss = float('inf')\n",
        "patience_counter = 0\n",
        "\n",
        "for epoch in range(EPOCHS):\n",
        "    model.train()\n",
        "    total_loss = 0\n",
        "    for inputs, labels in tqdm(train_loader):\n",
        "        inputs, labels = inputs.to(device), labels.to(device)\n",
        "        optimizer.zero_grad()\n",
        "        outputs = model(inputs)\n",
        "        loss = criterion(outputs, labels)\n",
        "        loss.backward()\n",
        "        optimizer.step()\n",
        "        total_loss += loss.item()\n",
        "\n",
        "    # Validation\n",
        "    model.eval()\n",
        "    val_loss = 0\n",
        "    all_preds, all_targets = [], []\n",
        "    with torch.no_grad():\n",
        "        for inputs, labels in val_loader:\n",
        "            inputs, labels = inputs.to(device), labels.to(device)\n",
        "            outputs = model(inputs)\n",
        "            loss = criterion(outputs, labels)\n",
        "            val_loss += loss.item()\n",
        "            preds = torch.sigmoid(outputs).cpu().numpy()\n",
        "            all_preds.extend(preds)\n",
        "            all_targets.extend(labels.cpu().numpy())\n",
        "\n",
        "    # Calculate average validation loss\n",
        "    avg_val_loss = val_loss / len(val_loader)\n",
        "\n",
        "    # Convert predictions to binary\n",
        "    binary_preds = [1 if p > 0.5 else 0 for p in all_preds]\n",
        "    val_accuracy = accuracy_score(all_targets, binary_preds)\n",
        "\n",
        "    print(f\"Epoch {epoch+1}: Train Loss = {total_loss:.4f}, Val Loss = {avg_val_loss:.4f}, Val Accuracy = {val_accuracy:.4f}\")\n",
        "\n",
        "    # Early stopping logic\n",
        "    if avg_val_loss < best_val_loss:\n",
        "        best_val_loss = avg_val_loss\n",
        "        patience_counter = 0\n",
        "        torch.save(model.state_dict(), 'best_model.pt')\n",
        "    else:\n",
        "        patience_counter += 1\n",
        "        if patience_counter >= PATIENCE:\n",
        "            print(\"Early stopping triggered.\")\n",
        "            break\n"
      ],
      "metadata": {
        "colab": {
          "base_uri": "https://localhost:8080/"
        },
        "id": "Mv60csWgiUUN",
        "outputId": "8825a965-982f-4154-fc2c-ad49f47bdd64"
      },
      "execution_count": null,
      "outputs": [
        {
          "output_type": "stream",
          "name": "stderr",
          "text": [
            "100%|██████████| 280/280 [00:02<00:00, 121.28it/s]\n"
          ]
        },
        {
          "output_type": "stream",
          "name": "stdout",
          "text": [
            "Epoch 1: Train Loss = 189.3089, Val Loss = 0.6431, Val Accuracy = 0.6265\n"
          ]
        },
        {
          "output_type": "stream",
          "name": "stderr",
          "text": [
            "100%|██████████| 280/280 [00:01<00:00, 223.73it/s]\n"
          ]
        },
        {
          "output_type": "stream",
          "name": "stdout",
          "text": [
            "Epoch 2: Train Loss = 176.3387, Val Loss = 0.6372, Val Accuracy = 0.6354\n"
          ]
        },
        {
          "output_type": "stream",
          "name": "stderr",
          "text": [
            "100%|██████████| 280/280 [00:01<00:00, 229.97it/s]\n"
          ]
        },
        {
          "output_type": "stream",
          "name": "stdout",
          "text": [
            "Epoch 3: Train Loss = 160.5235, Val Loss = 0.6547, Val Accuracy = 0.6363\n"
          ]
        },
        {
          "output_type": "stream",
          "name": "stderr",
          "text": [
            "100%|██████████| 280/280 [00:01<00:00, 230.22it/s]\n"
          ]
        },
        {
          "output_type": "stream",
          "name": "stdout",
          "text": [
            "Epoch 4: Train Loss = 139.8054, Val Loss = 0.7126, Val Accuracy = 0.6408\n"
          ]
        },
        {
          "output_type": "stream",
          "name": "stderr",
          "text": [
            "100%|██████████| 280/280 [00:01<00:00, 200.27it/s]\n"
          ]
        },
        {
          "output_type": "stream",
          "name": "stdout",
          "text": [
            "Epoch 5: Train Loss = 107.9135, Val Loss = 0.7998, Val Accuracy = 0.6180\n",
            "Early stopping triggered.\n"
          ]
        }
      ]
    },
    {
      "cell_type": "code",
      "source": [
        "# 6. Evaluation & Metrics\n",
        "model.load_state_dict(torch.load('best_model.pt'))\n",
        "model.eval()\n",
        "all_preds, all_targets = [], []\n",
        "\n",
        "with torch.no_grad():\n",
        "    for inputs, labels in val_loader:\n",
        "        inputs = inputs.to(device)\n",
        "        outputs = model(inputs)\n",
        "        preds = torch.sigmoid(outputs).cpu().numpy()\n",
        "        all_preds.extend(preds)\n",
        "        all_targets.extend(labels.numpy())\n",
        "\n",
        "pred_labels = [1 if p >= 0.5 else 0 for p in all_preds]\n",
        "\n",
        "acc = accuracy_score(all_targets, pred_labels)\n",
        "prec = precision_score(all_targets, pred_labels)\n",
        "rec = recall_score(all_targets, pred_labels)\n",
        "f1 = f1_score(all_targets, pred_labels)\n",
        "roc_auc = roc_auc_score(all_targets, all_preds)\n",
        "\n",
        "print(f\"\\nAccuracy: {acc:.4f}\")\n",
        "print(f\"Precision: {prec:.4f}\")\n",
        "print(f\"Recall: {rec:.4f}\")\n",
        "print(f\"F1 Score: {f1:.4f}\")\n",
        "print(f\"ROC AUC: {roc_auc:.4f}\")\n",
        "\n"
      ],
      "metadata": {
        "colab": {
          "base_uri": "https://localhost:8080/"
        },
        "id": "GQJXdt75Wphz",
        "outputId": "5e6fc48c-6ef0-477b-872c-ec24b49ffc72"
      },
      "execution_count": null,
      "outputs": [
        {
          "output_type": "stream",
          "name": "stdout",
          "text": [
            "\n",
            "Accuracy: 0.6354\n",
            "Precision: 0.6096\n",
            "Recall: 0.4439\n",
            "F1 Score: 0.5137\n",
            "ROC AUC: 0.6744\n"
          ]
        }
      ]
    },
    {
      "cell_type": "code",
      "source": [
        "# 7. Plot Confusion Matrix & ROC\n",
        "# Confusion Matrix\n",
        "cm = confusion_matrix(all_targets, pred_labels)\n",
        "plt.figure(figsize=(5,4))\n",
        "plt.imshow(cm, cmap='Blues')\n",
        "plt.title(\"Confusion Matrix\")\n",
        "plt.xticks([0, 1], ['False', 'True'])\n",
        "plt.yticks([0, 1], ['False', 'True'])\n",
        "plt.xlabel('Predicted')\n",
        "plt.ylabel('Actual')\n",
        "for i in range(2):\n",
        "    for j in range(2):\n",
        "        plt.text(j, i, cm[i, j], ha='center', va='center', color='black')\n",
        "plt.colorbar()\n",
        "plt.show()\n",
        "\n",
        "\n"
      ],
      "metadata": {
        "colab": {
          "base_uri": "https://localhost:8080/",
          "height": 410
        },
        "id": "dltO7gkEWUY7",
        "outputId": "95095bfc-08a4-4777-dc80-e51f85538ac7"
      },
      "execution_count": null,
      "outputs": [
        {
          "output_type": "display_data",
          "data": {
            "text/plain": [
              "<Figure size 500x400 with 2 Axes>"
            ],
            "image/png": "[encoded data removed]"
          },
          "metadata": {}
        }
      ]
    },
    {
      "cell_type": "code",
      "source": [
        "# ROC Curve\n",
        "fpr, tpr, _ = roc_curve(all_targets, all_preds)\n",
        "plt.figure()\n",
        "plt.plot(fpr, tpr, label=f\"AUC = {roc_auc:.2f}\")\n",
        "plt.plot([0, 1], [0, 1], linestyle='--', color='gray')\n",
        "plt.xlabel(\"False Positive Rate\")\n",
        "plt.ylabel(\"True Positive Rate\")\n",
        "plt.title(\"ROC Curve\")\n",
        "plt.legend()\n",
        "plt.grid()\n",
        "plt.show()"
      ],
      "metadata": {
        "id": "XN5lln9eWUbc",
        "colab": {
          "base_uri": "https://localhost:8080/",
          "height": 472
        },
        "outputId": "f62cc1aa-7431-424f-c615-31e991e27639"
      },
      "execution_count": null,
      "outputs": [
        {
          "output_type": "display_data",
          "data": {
            "text/plain": [
              "<Figure size 640x480 with 1 Axes>"
            ],
            "image/png": "[encoded data removed]"
          },
          "metadata": {}
        }
      ]
    },
    {
      "cell_type": "code",
      "source": [],
      "metadata": {
        "id": "afmjuLGLWUd1"
      },
      "execution_count": null,
      "outputs": []
    }
  ]
}